{
 "cells": [
  {
   "cell_type": "markdown",
   "metadata": {},
   "source": [
    "import json\n",
    "import requests\n",
    "from bs4 import BeautifulSoup as bs"
   ]
  },
  {
   "cell_type": "code",
   "execution_count": 93,
   "metadata": {},
   "outputs": [],
   "source": [
    "#!pip install twitter\n",
    "#!pip install twitterAPI"
   ]
  },
  {
   "cell_type": "markdown",
   "metadata": {},
   "source": []
  },
  {
   "cell_type": "code",
   "execution_count": 150,
   "metadata": {},
   "outputs": [],
   "source": [
    "\n",
    "import os\n",
    "import tweepy as tw\n",
    "import pandas as pd\n",
    "consumer_key = ''\n",
    "consumer_secret = ''\n",
    "access_token = ''\n",
    "access_token_secret = ''\n",
    "auth = tw.OAuthHandler(consumer_key, consumer_secret)\n",
    "auth.set_access_token(access_token, access_token_secret)\n",
    "api = tw.API(auth,wait_on_rate_limit=True)"
   ]
  },
  {
   "cell_type": "code",
   "execution_count": 151,
   "metadata": {},
   "outputs": [],
   "source": [
    "# Define the search term and the date_since date as variables\n",
    "search_words = \"#TheGreenBook\"\n",
    "date_since = \"2019-01-24\""
   ]
  },
  {
   "cell_type": "code",
   "execution_count": 152,
   "metadata": {},
   "outputs": [
    {
     "data": {
      "text/plain": [
       "<tweepy.cursor.ItemIterator at 0x14ea9a7fb70>"
      ]
     },
     "execution_count": 152,
     "metadata": {},
     "output_type": "execute_result"
    }
   ],
   "source": [
    "# Collect tweets\n",
    "tweets = tw.Cursor(api.search,\n",
    "              q=search_words,\n",
    "              lang=\"en\",\n",
    "              since=date_since).items(5)\n",
    "tweets"
   ]
  },
  {
   "cell_type": "code",
   "execution_count": 164,
   "metadata": {},
   "outputs": [
    {
     "name": "stdout",
     "output_type": "stream",
     "text": [
      "Just watched #TheGreenBook on @primevideouk I can't believe it took me this long to watch it - absolutely brilliant… https://t.co/PTAL9jGgfl\n",
      "RT @ericabuddington: 70+ years ago the space began with four rooms in Ulster County. Today, it boasts over 110+, a mix of bungalows, traile…\n",
      "RT @LetUsGetHonest: Those media @ 2007, but @i 1999ff a\"#GreenbookInitiative  NCJFCJ partners with what's now #FuturesWithoutViolence aftr…\n",
      "Modern problems require modern solutions. These books might not be coming out but I know a book that’s coming out s… https://t.co/nJwla5uiI9\n",
      "The Blade of Gamora. Modern problems require modern solutions. #apps #yelp #fivestars #racistrating… https://t.co/vVpcDP2QC2\n",
      "Dear Parents and Teachers:  Read \"Ruth and the Green Book\" to your class.  #TheGreenBook  #JimCrow  #BlackHistory https://t.co/zECBoyrPum\n",
      "@SCAAHC1993 facinating doc about #TheGreenBook showing on Irish Language TV @TG4TV with English subtitles… https://t.co/EKgUFSKRcF\n",
      "\"Being American is not letting someone else decide who you are and what you should be called.\"\n",
      "\n",
      "Anocht ar Fíor Scéa… https://t.co/nF2a9X8sq2\n"
     ]
    }
   ],
   "source": [
    "# Collect tweets\n",
    "tweets = tw.Cursor(api.search,\n",
    "              q=search_words,\n",
    "              lang=\"en\",\n",
    "              since=date_since).items(1000)\n",
    "\n",
    "# Iterate and print tweets\n",
    "for tweet in tweets:\n",
    "    print(tweet.text)"
   ]
  },
  {
   "cell_type": "code",
   "execution_count": 165,
   "metadata": {},
   "outputs": [
    {
     "data": {
      "text/plain": [
       "[\"Just watched #TheGreenBook on @primevideouk I can't believe it took me this long to watch it - absolutely brilliant… https://t.co/PTAL9jGgfl\",\n",
       " 'RT @ericabuddington: 70+ years ago the space began with four rooms in Ulster County. Today, it boasts over 110+, a mix of bungalows, traile…',\n",
       " 'RT @LetUsGetHonest: Those media @ 2007, but @i 1999ff a\"#GreenbookInitiative  NCJFCJ partners with what\\'s now #FuturesWithoutViolence aftr…',\n",
       " 'Modern problems require modern solutions. These books might not be coming out but I know a book that’s coming out s… https://t.co/nJwla5uiI9',\n",
       " 'The Blade of Gamora. Modern problems require modern solutions. #apps #yelp #fivestars #racistrating… https://t.co/vVpcDP2QC2']"
      ]
     },
     "execution_count": 165,
     "metadata": {},
     "output_type": "execute_result"
    }
   ],
   "source": [
    "# Collect tweets\n",
    "tweets = tw.Cursor(api.search,\n",
    "                       q=search_words,\n",
    "                       lang=\"en\",\n",
    "                       since=date_since).items(1000)\n",
    "\n",
    "# Collect a list of tweets\n",
    "all_tweets=[tweet.text for tweet in tweets]\n",
    "all_tweets[:5]\n"
   ]
  },
  {
   "cell_type": "code",
   "execution_count": 166,
   "metadata": {},
   "outputs": [],
   "source": [
    "import re\n",
    "def remove_url(txt):\n",
    "    \"\"\"Replace URLs found in a text string with nothing \n",
    "    (i.e. it will remove the URL from the string).\n",
    "\n",
    "    Parameters\n",
    "    ----------\n",
    "    txt : string\n",
    "        A text string that you want to parse and remove urls.\n",
    "\n",
    "    Returns\n",
    "    -------\n",
    "    The same txt string with url's removed.\n",
    "    \"\"\"\n",
    "\n",
    "    return \" \".join(re.sub(\"([^0-9A-Za-z \\t])|(\\w+:\\/\\/\\S+)\", \"\", txt).split())"
   ]
  },
  {
   "cell_type": "code",
   "execution_count": 167,
   "metadata": {
    "scrolled": true
   },
   "outputs": [
    {
     "data": {
      "text/plain": [
       "['Just watched TheGreenBook on primevideouk I cant believe it took me this long to watch it absolutely brilliant',\n",
       " 'RT ericabuddington 70 years ago the space began with four rooms in Ulster County Today it boasts over 110 a mix of bungalows traile',\n",
       " 'RT LetUsGetHonest Those media 2007 but i 1999ff aGreenbookInitiative NCJFCJ partners with whats now FuturesWithoutViolence aftr',\n",
       " 'Modern problems require modern solutions These books might not be coming out but I know a book thats coming out s',\n",
       " 'The Blade of Gamora Modern problems require modern solutions apps yelp fivestars racistrating',\n",
       " 'Dear Parents and Teachers Read Ruth and the Green Book to your class TheGreenBook JimCrow BlackHistory',\n",
       " 'SCAAHC1993 facinating doc about TheGreenBook showing on Irish Language TV TG4TV with English subtitles',\n",
       " 'Being American is not letting someone else decide who you are and what you should be calledAnocht ar For Sca']"
      ]
     },
     "execution_count": 167,
     "metadata": {},
     "output_type": "execute_result"
    }
   ],
   "source": [
    "tweets_no_urls = [remove_url(tweet) for tweet in all_tweets]\n",
    "tweets_no_urls[:50]\n"
   ]
  },
  {
   "cell_type": "code",
   "execution_count": 168,
   "metadata": {},
   "outputs": [],
   "source": [
    "import os\n",
    "import pandas as pd\n",
    "import matplotlib.pyplot as plt\n",
    "import seaborn as sns\n",
    "import itertools\n",
    "import collections\n",
    "\n",
    "import tweepy as tw\n",
    "import nltk\n",
    "from nltk.corpus import stopwords\n",
    "import re\n",
    "import networkx\n",
    "from textblob import TextBlob\n",
    "\n",
    "import warnings\n",
    "warnings.filterwarnings(\"ignore\")\n",
    "\n",
    "sns.set(font_scale=1.5)\n",
    "sns.set_style(\"whitegrid\")"
   ]
  },
  {
   "cell_type": "code",
   "execution_count": 171,
   "metadata": {},
   "outputs": [
    {
     "data": {
      "text/plain": [
       "(0.0,\n",
       " TextBlob(\"Being American is not letting someone else decide who you are and what you should be calledAnocht ar For Sca\"))"
      ]
     },
     "execution_count": 171,
     "metadata": {},
     "output_type": "execute_result"
    }
   ],
   "source": [
    " #Create textblob objects of the tweets\n",
    "#!pip install textblob\n",
    "from textblob import TextBlob\n",
    "sentiment_objects = [TextBlob(tweet) for tweet in tweets_no_urls]\n",
    "\n",
    "sentiment_objects[7].polarity, sentiment_objects[7]"
   ]
  },
  {
   "cell_type": "code",
   "execution_count": 172,
   "metadata": {},
   "outputs": [
    {
     "data": {
      "text/plain": [
       "[[0.0,\n",
       "  'RT ericabuddington 70 years ago the space began with four rooms in Ulster County Today it boasts over 110 a mix of bungalows traile'],\n",
       " [0.0,\n",
       "  'RT LetUsGetHonest Those media 2007 but i 1999ff aGreenbookInitiative NCJFCJ partners with whats now FuturesWithoutViolence aftr'],\n",
       " [0.2,\n",
       "  'Modern problems require modern solutions These books might not be coming out but I know a book thats coming out s'],\n",
       " [0.2,\n",
       "  'The Blade of Gamora Modern problems require modern solutions apps yelp fivestars racistrating'],\n",
       " [-0.2,\n",
       "  'Dear Parents and Teachers Read Ruth and the Green Book to your class TheGreenBook JimCrow BlackHistory'],\n",
       " [0.0,\n",
       "  'SCAAHC1993 facinating doc about TheGreenBook showing on Irish Language TV TG4TV with English subtitles'],\n",
       " [0.0,\n",
       "  'Being American is not letting someone else decide who you are and what you should be calledAnocht ar For Sca']]"
      ]
     },
     "execution_count": 172,
     "metadata": {},
     "output_type": "execute_result"
    }
   ],
   "source": [
    "# Create list of polarity valuesx and tweet text\n",
    "sentiment_values = [[tweet.sentiment.polarity, str(tweet)] for tweet in sentiment_objects]\n",
    "\n",
    "sentiment_values[1:]"
   ]
  },
  {
   "cell_type": "code",
   "execution_count": 173,
   "metadata": {},
   "outputs": [
    {
     "data": {
      "text/html": [
       "<div>\n",
       "<style scoped>\n",
       "    .dataframe tbody tr th:only-of-type {\n",
       "        vertical-align: middle;\n",
       "    }\n",
       "\n",
       "    .dataframe tbody tr th {\n",
       "        vertical-align: top;\n",
       "    }\n",
       "\n",
       "    .dataframe thead th {\n",
       "        text-align: right;\n",
       "    }\n",
       "</style>\n",
       "<table border=\"1\" class=\"dataframe\">\n",
       "  <thead>\n",
       "    <tr style=\"text-align: right;\">\n",
       "      <th></th>\n",
       "      <th>polarity</th>\n",
       "      <th>tweet</th>\n",
       "    </tr>\n",
       "  </thead>\n",
       "  <tbody>\n",
       "    <tr>\n",
       "      <th>0</th>\n",
       "      <td>0.425</td>\n",
       "      <td>Just watched TheGreenBook on primevideouk I ca...</td>\n",
       "    </tr>\n",
       "    <tr>\n",
       "      <th>1</th>\n",
       "      <td>0.000</td>\n",
       "      <td>RT ericabuddington 70 years ago the space bega...</td>\n",
       "    </tr>\n",
       "    <tr>\n",
       "      <th>2</th>\n",
       "      <td>0.000</td>\n",
       "      <td>RT LetUsGetHonest Those media 2007 but i 1999f...</td>\n",
       "    </tr>\n",
       "    <tr>\n",
       "      <th>3</th>\n",
       "      <td>0.200</td>\n",
       "      <td>Modern problems require modern solutions These...</td>\n",
       "    </tr>\n",
       "    <tr>\n",
       "      <th>4</th>\n",
       "      <td>0.200</td>\n",
       "      <td>The Blade of Gamora Modern problems require mo...</td>\n",
       "    </tr>\n",
       "  </tbody>\n",
       "</table>\n",
       "</div>"
      ],
      "text/plain": [
       "   polarity                                              tweet\n",
       "0     0.425  Just watched TheGreenBook on primevideouk I ca...\n",
       "1     0.000  RT ericabuddington 70 years ago the space bega...\n",
       "2     0.000  RT LetUsGetHonest Those media 2007 but i 1999f...\n",
       "3     0.200  Modern problems require modern solutions These...\n",
       "4     0.200  The Blade of Gamora Modern problems require mo..."
      ]
     },
     "execution_count": 173,
     "metadata": {},
     "output_type": "execute_result"
    }
   ],
   "source": [
    "# Create dataframe containing the polarity value and tweet text\n",
    "sentiment_df = pd.DataFrame(sentiment_values, columns=[\"polarity\", \"tweet\"])\n",
    "\n",
    "sentiment_df.head()"
   ]
  },
  {
   "cell_type": "code",
   "execution_count": 174,
   "metadata": {},
   "outputs": [
    {
     "data": {
      "image/png": "[encoded data removed]",
      "text/plain": [
       "<Figure size 576x432 with 1 Axes>"
      ]
     },
     "metadata": {},
     "output_type": "display_data"
    }
   ],
   "source": [
    "fig, ax = plt.subplots(figsize=(8, 6))\n",
    "\n",
    "# Plot histogram of the polarity values\n",
    "sentiment_df.hist(bins=[-1, -0.75, -0.5, -0.25, 0.25, 0.5, 0.75, 1],\n",
    "             ax=ax,\n",
    "             color=\"red\")\n",
    "\n",
    "plt.title(\"Sentiments from Tweets on #GreenBook movies\")\n",
    "plt.show()"
   ]
  },
  {
   "cell_type": "code",
   "execution_count": 175,
   "metadata": {},
   "outputs": [
    {
     "data": {
      "image/png": "[encoded data removed]",
      "text/plain": [
       "<Figure size 576x432 with 1 Axes>"
      ]
     },
     "metadata": {},
     "output_type": "display_data"
    }
   ],
   "source": [
    "# Remove polarity values equal to zero\n",
    "sentiment_df = sentiment_df[sentiment_df.polarity != 0]\n",
    "fig, ax = plt.subplots(figsize=(8, 6))\n",
    "\n",
    "# Plot histogram with break at zero\n",
    "sentiment_df.hist(bins=[-1, -0.75, -0.5, -0.25, 0.0, 0.25, 0.5, 0.75, 1],\n",
    "             ax=ax,\n",
    "             color=\"purple\")\n",
    "\n",
    "plt.title(\"Sentiments from Tweets on #greenBook\")\n",
    "plt.show()"
   ]
  },
  {
   "cell_type": "code",
   "execution_count": null,
   "metadata": {},
   "outputs": [],
   "source": []
  },
  {
   "cell_type": "code",
   "execution_count": null,
   "metadata": {},
   "outputs": [],
   "source": []
  }
 ],
 "metadata": {
  "kernelspec": {
   "display_name": "Python 3",
   "language": "python",
   "name": "python3"
  }
 },
 "nbformat": 4,
 "nbformat_minor": 2
}
